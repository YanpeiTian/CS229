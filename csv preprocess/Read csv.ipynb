{
 "cells": [
  {
   "cell_type": "code",
   "execution_count": 10,
   "metadata": {},
   "outputs": [],
   "source": [
    "import pandas as pd\n",
    "import os\n",
    "import numpy as np"
   ]
  },
  {
   "cell_type": "code",
   "execution_count": 57,
   "metadata": {},
   "outputs": [],
   "source": [
    "path = '/Users/chunyuewei/Desktop/CS 229/Project/CS229/Example Data'\n",
    "csv_name = os.path.join(path + os.sep + 'one_day_2018-06-01_2018-06-02.csv')"
   ]
  },
  {
   "cell_type": "code",
   "execution_count": 58,
   "metadata": {},
   "outputs": [],
   "source": [
    "df = pd.read_csv(csv_name)"
   ]
  },
  {
   "cell_type": "markdown",
   "metadata": {},
   "source": [
    "### Code"
   ]
  },
  {
   "cell_type": "code",
   "execution_count": 60,
   "metadata": {},
   "outputs": [],
   "source": [
    "codes_inline = []\n",
    "codes_pre_line = []\n",
    "codes_pre_count = []\n",
    "for i in range(df.shape[0]):\n",
    "    body = df['Body'][i]\n",
    "    code_start = 0\n",
    "    code_end = 0\n",
    "    code_pre_line = 0\n",
    "    code_pre_count = 0\n",
    "    code_inline = 0\n",
    "    while True:\n",
    "        code_start = body.find('<code>', code_end)\n",
    "        if code_start == -1:\n",
    "            break\n",
    "        code_end = body.find('</code>', code_start)\n",
    "        code = body[code_start: code_end+7]\n",
    "        if body[code_start-5: code_start] == '<pre>':\n",
    "            code_line = code.split('\\n')\n",
    "            # if '' in code_line: # Remove blank lines\n",
    "                # while '' in code_line:\n",
    "                #    code_line.remove('')    \n",
    "            code_line_count = len(code_line)-1 # Last line as </code>\n",
    "            code_pre_line += code_line_count\n",
    "            code_pre_count += 1\n",
    "        else:\n",
    "            code_inline += 1\n",
    "    codes_inline.append(code_inline)\n",
    "    codes_pre_line.append(code_pre_line)\n",
    "    codes_pre_count.append(code_pre_count)"
   ]
  },
  {
   "cell_type": "code",
   "execution_count": 61,
   "metadata": {},
   "outputs": [],
   "source": [
    "df['InlineCode'] = codes_inline\n",
    "df['BlockCode'] = codes_pre_count\n",
    "df['BlockCodeLine'] = codes_pre_line"
   ]
  },
  {
   "cell_type": "markdown",
   "metadata": {},
   "source": [
    "### Hyperlink"
   ]
  },
  {
   "cell_type": "code",
   "execution_count": 62,
   "metadata": {},
   "outputs": [],
   "source": [
    "hyperlinks = []\n",
    "for i in range(df.shape[0]):\n",
    "    body = df['Body'][i]\n",
    "    hyperlink_pos = -1\n",
    "    hyperlink = 0\n",
    "    while True:\n",
    "        hyperlink_pos = body.find('<a href=', hyperlink_pos+1)\n",
    "        if hyperlink_pos == -1:\n",
    "            break\n",
    "        hyperlink += 1\n",
    "        # print(i, body[hyperlink_pos:hyperlink_pos + 50])\n",
    "    hyperlinks.append(hyperlink)"
   ]
  },
  {
   "cell_type": "code",
   "execution_count": 63,
   "metadata": {},
   "outputs": [],
   "source": [
    "df['Hyperlink'] = hyperlinks"
   ]
  },
  {
   "cell_type": "markdown",
   "metadata": {},
   "source": [
    "### Edit and Label"
   ]
  },
  {
   "cell_type": "code",
   "execution_count": 64,
   "metadata": {},
   "outputs": [],
   "source": [
    "edits = []\n",
    "labels = []\n",
    "for i in range(df.shape[0]):\n",
    "    last_edit_date = df['LastEditDate'][i] # str or float (np.nan)\n",
    "    if isinstance(last_edit_date, float):\n",
    "        if np.isnan(last_edit_date):\n",
    "            edits.append('0')\n",
    "        else:\n",
    "            edits.append('1')\n",
    "    else:\n",
    "        edits.append('1')\n",
    "        \n",
    "    answer_id = df['Id'][i] # int\n",
    "    accepted_id = df['ParentAcceptedAnswerId'][i] # float (np.nan)\n",
    "    if np.isnan(accepted_id):\n",
    "        labels.append(np.nan)\n",
    "    else:\n",
    "        if answer_id == int(accepted_id):\n",
    "            labels.append('1')\n",
    "        else:\n",
    "            labels.append('0')"
   ]
  },
  {
   "cell_type": "code",
   "execution_count": 65,
   "metadata": {},
   "outputs": [],
   "source": [
    "df['Edit'] = edits\n",
    "df['Label'] = labels"
   ]
  },
  {
   "cell_type": "markdown",
   "metadata": {},
   "source": [
    "### Output data"
   ]
  },
  {
   "cell_type": "code",
   "execution_count": 67,
   "metadata": {},
   "outputs": [],
   "source": [
    "output = df[['Label','Edit','CommentCount','BodyLength', 'UserReputation','UserViews','UserUpVotes','UserDownVotes','InlineCode','BlockCode','BlockCodeLine','Hyperlink']]"
   ]
  },
  {
   "cell_type": "code",
   "execution_count": 68,
   "metadata": {},
   "outputs": [],
   "source": [
    "output_name = csv_name.replace('.csv','_input.csv')\n",
    "output.to_csv(output_name)"
   ]
  },
  {
   "cell_type": "markdown",
   "metadata": {},
   "source": [
    "## Text"
   ]
  },
  {
   "cell_type": "code",
   "execution_count": null,
   "metadata": {},
   "outputs": [],
   "source": []
  }
 ],
 "metadata": {
  "kernelspec": {
   "display_name": "Python 3",
   "language": "python",
   "name": "python3"
  },
  "language_info": {
   "codemirror_mode": {
    "name": "ipython",
    "version": 3
   },
   "file_extension": ".py",
   "mimetype": "text/x-python",
   "name": "python",
   "nbconvert_exporter": "python",
   "pygments_lexer": "ipython3",
   "version": "3.7.4"
  }
 },
 "nbformat": 4,
 "nbformat_minor": 2
}
